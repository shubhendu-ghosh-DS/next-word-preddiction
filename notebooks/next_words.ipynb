{
  "nbformat": 4,
  "nbformat_minor": 0,
  "metadata": {
    "colab": {
      "name": "next words",
      "provenance": [],
      "collapsed_sections": []
    },
    "kernelspec": {
      "name": "python3",
      "display_name": "Python 3"
    },
    "language_info": {
      "name": "python"
    },
    "accelerator": "GPU"
  },
  "cells": [
    {
      "cell_type": "markdown",
      "source": [
        "# **Predicting Next word**\n",
        "## *Using NLP & LSTM*"
      ],
      "metadata": {
        "id": "K40qNNLT7UBd"
      }
    },
    {
      "cell_type": "markdown",
      "source": [
        "We see our keyboard suggesting related words when we're typing something on it. that is helpful sometimes, we don't have to type a long word by ourself. the keyboard automatically predict that using our past history and previous words. In this project we will try to build somthing similar of it by using NLP and LSTM. \n",
        "we are not going to explain NLP & LSTM concept in this project, Rather we are just gonna implement those techniques. "
      ],
      "metadata": {
        "id": "ixPoI_r452x_"
      }
    },
    {
      "cell_type": "markdown",
      "source": [
        "## Importing libraries"
      ],
      "metadata": {
        "id": "aN17kxPl7nPG"
      }
    },
    {
      "cell_type": "code",
      "execution_count": null,
      "metadata": {
        "id": "JrPWT9IiZkxB"
      },
      "outputs": [],
      "source": [
        "import numpy as np\n",
        "import heapq\n",
        "import matplotlib.pyplot as plt\n",
        "from nltk.tokenize import RegexpTokenizer\n",
        "from keras.models import Sequential, load_model\n",
        "from keras.layers.core import Dense, Activation\n",
        "from keras.layers import LSTM\n",
        "import pickle\n",
        "from tensorflow.keras.optimizers import RMSprop"
      ]
    },
    {
      "cell_type": "markdown",
      "source": [
        "## Upload the Dataset.\n",
        "here we are using [the jungle book](https://www.gutenberg.org/ebooks/236) by Rudyard Kipling as a dataset"
      ],
      "metadata": {
        "id": "qsY_vFLa7tXe"
      }
    },
    {
      "cell_type": "code",
      "source": [
        "from google.colab import files\n",
        "data = files.upload()"
      ],
      "metadata": {
        "colab": {
          "resources": {
            "http://localhost:8080/nbextensions/google.colab/files.js": {
              "data": "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",
              "ok": true,
              "headers": [
                [
                  "content-type",
                  "application/javascript"
                ]
              ],
              "status": 200,
              "status_text": ""
            }
          },
          "base_uri": "https://localhost:8080/",
          "height": 74
        },
        "id": "Ei54odhcZtvS",
        "outputId": "1c0723ee-d6aa-464e-d5c0-ce17e743984e"
      },
      "execution_count": null,
      "outputs": [
        {
          "output_type": "display_data",
          "data": {
            "text/plain": [
              "<IPython.core.display.HTML object>"
            ],
            "text/html": [
              "\n",
              "     <input type=\"file\" id=\"files-d3e2c739-059b-4283-9dd6-69c12ef3cf83\" name=\"files[]\" multiple disabled\n",
              "        style=\"border:none\" />\n",
              "     <output id=\"result-d3e2c739-059b-4283-9dd6-69c12ef3cf83\">\n",
              "      Upload widget is only available when the cell has been executed in the\n",
              "      current browser session. Please rerun this cell to enable.\n",
              "      </output>\n",
              "      <script src=\"/nbextensions/google.colab/files.js\"></script> "
            ]
          },
          "metadata": {}
        },
        {
          "output_type": "stream",
          "name": "stdout",
          "text": [
            "Saving jungle book.txt to jungle book.txt\n"
          ]
        }
      ]
    },
    {
      "cell_type": "markdown",
      "source": [
        "## Storing it into a list"
      ],
      "metadata": {
        "id": "4EW5SgUV8ziQ"
      }
    },
    {
      "cell_type": "code",
      "source": [
        "file = open(\"jungle book.txt\", \"r\", encoding = \"utf8\")\n",
        "lines = []\n",
        "for i in  file:\n",
        "  lines.append(i)"
      ],
      "metadata": {
        "id": "kK4aGx_CZ7uL"
      },
      "execution_count": null,
      "outputs": []
    },
    {
      "cell_type": "code",
      "source": [
        "text = \"\"\n",
        "for i in lines:\n",
        "  text = ' '.join(lines)"
      ],
      "metadata": {
        "id": "yrj9at2uZ-rC"
      },
      "execution_count": null,
      "outputs": []
    },
    {
      "cell_type": "markdown",
      "source": [
        "## Remove punctuations"
      ],
      "metadata": {
        "id": "zC3PLn_l8s7I"
      }
    },
    {
      "cell_type": "code",
      "source": [
        "text = text.replace('\\n', ' ').replace('\\r', ' ').replace('\\ufeff', ' ').replace('\"', '').replace('\"', '')\n",
        "text = text.split()\n",
        "text = ' '.join(text)\n",
        "text[200:500]"
      ],
      "metadata": {
        "colab": {
          "base_uri": "https://localhost:8080/",
          "height": 72
        },
        "id": "AoqoOIaKaC0y",
        "outputId": "44a6d131-1652-47c2-85b3-6aa5d873cde9"
      },
      "execution_count": null,
      "outputs": [
        {
          "output_type": "execute_result",
          "data": {
            "text/plain": [
              "'re-use it under the terms of the Project Gutenberg License included with this eBook or online at www.gutenberg.org Title: The Jungle Book Author: Rudyard Kipling Release Date: January 16, 2006 [EBook #236] Last Updated: October 6, 2016 Language: English Character set encoding: UTF-8 *** START OF THI'"
            ],
            "application/vnd.google.colaboratory.intrinsic+json": {
              "type": "string"
            }
          },
          "metadata": {},
          "execution_count": 5
        }
      ]
    },
    {
      "cell_type": "markdown",
      "source": [
        "## Tokenization"
      ],
      "metadata": {
        "id": "beudPHwU84M1"
      }
    },
    {
      "cell_type": "code",
      "source": [
        "tokenizer = RegexpTokenizer('\\s+', gaps = True)\n",
        "words = tokenizer.tokenize(text)"
      ],
      "metadata": {
        "id": "kZkyzMO4aJpx"
      },
      "execution_count": null,
      "outputs": []
    },
    {
      "cell_type": "markdown",
      "source": [
        "## Finding unique words in the dataset\n",
        "## and assign each of them with a index"
      ],
      "metadata": {
        "id": "OlMQYtb088K9"
      }
    },
    {
      "cell_type": "code",
      "source": [
        "unique_words = np.unique(words)\n",
        "unique_word_index = dict((c, i) for i, c in enumerate(unique_words))"
      ],
      "metadata": {
        "id": "RnYCyWFBaM_a"
      },
      "execution_count": null,
      "outputs": []
    },
    {
      "cell_type": "markdown",
      "source": [
        "## Building the corpus\n",
        "In this project we will be predicting the next word with the help of five previous words. the next word will only depend the five words preceded by it. "
      ],
      "metadata": {
        "id": "uFLg6WEN9LvF"
      }
    },
    {
      "cell_type": "code",
      "source": [
        "length_word = 5\n",
        "next_words = []\n",
        "prev_words = []\n",
        "for j in range(len(words) - length_word):\n",
        "  prev_words.append(words[j:j+length_word])\n",
        "  next_words.append(words[j + length_word])\n",
        "\n",
        "print(prev_words[100])\n",
        "print(next_words[100])"
      ],
      "metadata": {
        "colab": {
          "base_uri": "https://localhost:8080/"
        },
        "id": "LK6BN9m6aQcK",
        "outputId": "c7bc728d-4748-49d8-ab21-cb3f3eb6e378"
      },
      "execution_count": null,
      "outputs": [
        {
          "output_type": "stream",
          "name": "stdout",
          "text": [
            "['JUNGLE', 'BOOK', 'By', 'Rudyard', 'Kipling']\n",
            "Contents\n"
          ]
        }
      ]
    },
    {
      "cell_type": "markdown",
      "source": [
        "## building Independent variables and dependent variabls."
      ],
      "metadata": {
        "id": "KgJ35Kwh-T5Y"
      }
    },
    {
      "cell_type": "code",
      "source": [
        "X = np.zeros((len(prev_words), length_word, len(unique_words)), dtype = bool)\n",
        "y = np.zeros((len(next_words), len(unique_words)), dtype = bool)\n",
        "for i, each_words in enumerate(prev_words):\n",
        "  for j , each_word in enumerate(each_words):\n",
        "    X[i, j, unique_word_index[each_word]] = 1\n",
        "  y[i, unique_word_index[next_words[i]]] = 1"
      ],
      "metadata": {
        "id": "Rz3sGCbJaViS"
      },
      "execution_count": null,
      "outputs": []
    },
    {
      "cell_type": "code",
      "source": [
        ""
      ],
      "metadata": {
        "id": "lajp4KYwxN9D"
      },
      "execution_count": null,
      "outputs": []
    },
    {
      "cell_type": "markdown",
      "source": [
        "## building The model\n",
        "we are using LSTM layers "
      ],
      "metadata": {
        "id": "HlUAPCgk-eKd"
      }
    },
    {
      "cell_type": "code",
      "source": [
        "model = Sequential()\n",
        "model.add(LSTM(128, input_shape=(length_word, len(unique_words))))\n",
        "model.add(Dense(len(unique_words)))\n",
        "model.add(Activation('softmax'))"
      ],
      "metadata": {
        "id": "-5JV2Qwnaa_h"
      },
      "execution_count": null,
      "outputs": []
    },
    {
      "cell_type": "code",
      "source": [
        ""
      ],
      "metadata": {
        "id": "E4K3w4KTtGlV"
      },
      "execution_count": null,
      "outputs": []
    },
    {
      "cell_type": "markdown",
      "source": [
        "## compile and training"
      ],
      "metadata": {
        "id": "m1mNOFc9-weI"
      }
    },
    {
      "cell_type": "code",
      "source": [
        "optimizer = RMSprop(learning_rate=0.01)\n",
        "model.compile(loss='categorical_crossentropy', optimizer=optimizer, metrics=['accuracy'])\n",
        "history = model.fit(X, y,  batch_size=128, epochs=30).history"
      ],
      "metadata": {
        "colab": {
          "base_uri": "https://localhost:8080/"
        },
        "id": "7AiNN9oja48S",
        "outputId": "b5f993cc-ae53-43d9-e13d-9af8500f622f"
      },
      "execution_count": null,
      "outputs": [
        {
          "output_type": "stream",
          "name": "stdout",
          "text": [
            "Epoch 1/30\n",
            "421/421 [==============================] - 13s 16ms/step - loss: 6.9531 - accuracy: 0.0911\n",
            "Epoch 2/30\n",
            "421/421 [==============================] - 6s 15ms/step - loss: 6.2880 - accuracy: 0.1402\n",
            "Epoch 3/30\n",
            "421/421 [==============================] - 6s 15ms/step - loss: 6.1577 - accuracy: 0.1778\n",
            "Epoch 4/30\n",
            "421/421 [==============================] - 7s 16ms/step - loss: 5.9757 - accuracy: 0.2312\n",
            "Epoch 5/30\n",
            "421/421 [==============================] - 7s 16ms/step - loss: 5.6725 - accuracy: 0.2940\n",
            "Epoch 6/30\n",
            "421/421 [==============================] - 7s 16ms/step - loss: 5.3552 - accuracy: 0.3595\n",
            "Epoch 7/30\n",
            "421/421 [==============================] - 7s 16ms/step - loss: 5.0538 - accuracy: 0.4167\n",
            "Epoch 8/30\n",
            "421/421 [==============================] - 7s 16ms/step - loss: 4.8060 - accuracy: 0.4619\n",
            "Epoch 9/30\n",
            "421/421 [==============================] - 6s 15ms/step - loss: 4.6085 - accuracy: 0.4967\n",
            "Epoch 10/30\n",
            "421/421 [==============================] - 6s 15ms/step - loss: 4.4637 - accuracy: 0.5231\n",
            "Epoch 11/30\n",
            "421/421 [==============================] - 6s 15ms/step - loss: 4.3563 - accuracy: 0.5414\n",
            "Epoch 12/30\n",
            "421/421 [==============================] - 6s 15ms/step - loss: 4.2770 - accuracy: 0.5588\n",
            "Epoch 13/30\n",
            "421/421 [==============================] - 6s 15ms/step - loss: 4.2123 - accuracy: 0.5716\n",
            "Epoch 14/30\n",
            "421/421 [==============================] - 7s 16ms/step - loss: 4.1592 - accuracy: 0.5834\n",
            "Epoch 15/30\n",
            "421/421 [==============================] - 6s 15ms/step - loss: 4.1061 - accuracy: 0.5930\n",
            "Epoch 16/30\n",
            "421/421 [==============================] - 7s 15ms/step - loss: 4.0625 - accuracy: 0.6003\n",
            "Epoch 17/30\n",
            "421/421 [==============================] - 7s 16ms/step - loss: 4.0154 - accuracy: 0.6072\n",
            "Epoch 18/30\n",
            "421/421 [==============================] - 7s 16ms/step - loss: 3.9770 - accuracy: 0.6133\n",
            "Epoch 19/30\n",
            "421/421 [==============================] - 7s 16ms/step - loss: 3.9230 - accuracy: 0.6215\n",
            "Epoch 20/30\n",
            "421/421 [==============================] - 7s 16ms/step - loss: 3.8887 - accuracy: 0.6254\n",
            "Epoch 21/30\n",
            "421/421 [==============================] - 7s 16ms/step - loss: 3.8555 - accuracy: 0.6282\n",
            "Epoch 22/30\n",
            "421/421 [==============================] - 7s 16ms/step - loss: 3.8252 - accuracy: 0.6328\n",
            "Epoch 23/30\n",
            "421/421 [==============================] - 7s 16ms/step - loss: 3.7906 - accuracy: 0.6360\n",
            "Epoch 24/30\n",
            "421/421 [==============================] - 7s 16ms/step - loss: 3.7641 - accuracy: 0.6397\n",
            "Epoch 25/30\n",
            "421/421 [==============================] - 7s 16ms/step - loss: 3.7356 - accuracy: 0.6429\n",
            "Epoch 26/30\n",
            "421/421 [==============================] - 7s 16ms/step - loss: 3.7151 - accuracy: 0.6446\n",
            "Epoch 27/30\n",
            "421/421 [==============================] - 7s 16ms/step - loss: 3.6871 - accuracy: 0.6467\n",
            "Epoch 28/30\n",
            "421/421 [==============================] - 7s 16ms/step - loss: 3.6688 - accuracy: 0.6493\n",
            "Epoch 29/30\n",
            "421/421 [==============================] - 7s 16ms/step - loss: 3.6513 - accuracy: 0.6514\n",
            "Epoch 30/30\n",
            "421/421 [==============================] - 7s 16ms/step - loss: 3.6359 - accuracy: 0.6517\n"
          ]
        }
      ]
    },
    {
      "cell_type": "markdown",
      "source": [
        "## Saving the model"
      ],
      "metadata": {
        "id": "48FGyjW3AFH1"
      }
    },
    {
      "cell_type": "code",
      "source": [
        "model.save('next_word_model.h5')\n",
        "pickle.dump(history, open(\"history.p\", \"wb\"))\n",
        "model = load_model('next_word_model.h5')\n",
        "history = pickle.load(open(\"history.p\", \"rb\"))"
      ],
      "metadata": {
        "id": "uenJ2a4xa9fq"
      },
      "execution_count": null,
      "outputs": []
    },
    {
      "cell_type": "markdown",
      "source": [
        "## Visualize the model performance"
      ],
      "metadata": {
        "id": "HNIomxv2AICF"
      }
    },
    {
      "cell_type": "code",
      "source": [
        "plt.plot(history['accuracy'])\n",
        "plt.title('model accuracy')\n",
        "plt.ylabel('accuracy')\n",
        "plt.xlabel('epoch')\n"
      ],
      "metadata": {
        "colab": {
          "base_uri": "https://localhost:8080/",
          "height": 313
        },
        "id": "EWW3aUxPdSRD",
        "outputId": "7710ebb3-7ec1-41c5-d371-a48c3052f12d"
      },
      "execution_count": null,
      "outputs": [
        {
          "output_type": "execute_result",
          "data": {
            "text/plain": [
              "Text(0.5, 0, 'epoch')"
            ]
          },
          "metadata": {},
          "execution_count": 14
        },
        {
          "output_type": "display_data",
          "data": {
            "text/plain": [
              "<Figure size 432x288 with 1 Axes>"
            ],
            "image/png": "[encoded data removed]"
          },
          "metadata": {
            "needs_background": "light"
          }
        }
      ]
    },
    {
      "cell_type": "code",
      "source": [
        "plt.plot(history['loss'])\n",
        "plt.title('model loss')\n",
        "plt.ylabel('loss')\n",
        "plt.xlabel('epoch')\n"
      ],
      "metadata": {
        "colab": {
          "base_uri": "https://localhost:8080/",
          "height": 313
        },
        "id": "e49x9uBBdXbC",
        "outputId": "2af87f32-6239-415a-e52d-90355f6734e8"
      },
      "execution_count": null,
      "outputs": [
        {
          "output_type": "execute_result",
          "data": {
            "text/plain": [
              "Text(0.5, 0, 'epoch')"
            ]
          },
          "metadata": {},
          "execution_count": 15
        },
        {
          "output_type": "display_data",
          "data": {
            "text/plain": [
              "<Figure size 432x288 with 1 Axes>"
            ],
            "image/png": "[encoded data removed]"
          },
          "metadata": {
            "needs_background": "light"
          }
        }
      ]
    },
    {
      "cell_type": "markdown",
      "source": [
        "## Prediction \n",
        "now we will do the prediction using our trained model. \n",
        "but first we have to preprocess our input text before feeding it to our model."
      ],
      "metadata": {
        "id": "N_N1KPQYAMW1"
      }
    },
    {
      "cell_type": "code",
      "source": [
        "def prepare_input(text):\n",
        "  #text = text.lower().split()\n",
        "  x = np.zeros((1, 5, len(unique_words)), dtype = bool)\n",
        "  for t, char in enumerate(text):\n",
        "    x[0, t, unique_word_index[char]] = 1\n",
        "  return x"
      ],
      "metadata": {
        "id": "mBzvIyvrdbw6"
      },
      "execution_count": null,
      "outputs": []
    },
    {
      "cell_type": "code",
      "source": [
        "def sample(preds, top_n=3):\n",
        "  preds = np.asarray(preds).astype('float64')\n",
        "  preds = np.log(preds)\n",
        "  exp_preds = np.exp(preds)\n",
        "  preds = exp_preds / np.sum(exp_preds)\n",
        "  return heapq.nlargest(top_n, range(len(preds)), preds.take)"
      ],
      "metadata": {
        "id": "axyyND8rdpOr"
      },
      "execution_count": null,
      "outputs": []
    },
    {
      "cell_type": "code",
      "source": [
        "def get_word(index):\n",
        "  for i, j in unique_word_index.items():\n",
        "    if j == index:\n",
        "      return i\n",
        "      break"
      ],
      "metadata": {
        "id": "7d9HokhbAhN1"
      },
      "execution_count": null,
      "outputs": []
    },
    {
      "cell_type": "code",
      "source": [
        "def predict_completions(text, n=3):\n",
        "\n",
        "  x = prepare_input(text)\n",
        "\n",
        "  preds = model.predict(x, verbose=0)[0]\n",
        "\n",
        "  next_indices = sample(preds, n)\n",
        "\n",
        "  return [get_word(idx) for idx in next_indices]"
      ],
      "metadata": {
        "id": "MkcZ1hDPdrkJ"
      },
      "execution_count": null,
      "outputs": []
    },
    {
      "cell_type": "code",
      "source": [
        "quotes = [\n",
        "    \"He was going to spring down hill when a little shadow with a bushy tail crossed the threshold and whined\",\n",
        "    \"And good luck and strong white teeth go with noblechildren that they may never forget the hungry in this world\",\n",
        "    \"We call it hydrophobia, but they call it dewanee--the madness--and run\",\n",
        "    \"He landed close to old Sea Vitch\",\n",
        "    \"he had seen enough of it. So he called out\"\n",
        "]"
      ],
      "metadata": {
        "id": "e-3kZuYndvsT"
      },
      "execution_count": null,
      "outputs": []
    },
    {
      "cell_type": "code",
      "source": [
        "for q in quotes:\n",
        "    seq = q.lower().split()[:5]\n",
        "    texts = ' '.join(seq)\n",
        "    print(texts)\n",
        "    print(\"And the suggesting words are\")\n",
        "    print(predict_completions(seq, 5))\n",
        "    print()"
      ],
      "metadata": {
        "colab": {
          "base_uri": "https://localhost:8080/"
        },
        "id": "FDOGOZcYdzJy",
        "outputId": "fe05928b-c23f-40f5-8d64-2ed35423d28b"
      },
      "execution_count": null,
      "outputs": [
        {
          "output_type": "stream",
          "name": "stdout",
          "text": [
            "he was going to spring\n",
            "And the suggesting words are\n",
            "['down', 'in', 'over', 'he', 'Sea']\n",
            "\n",
            "and good luck and strong\n",
            "And the suggesting words are\n",
            "['white', 'young', 'all', 'enough', 'a']\n",
            "\n",
            "we call it hydrophobia, but\n",
            "And the suggesting words are\n",
            "['they', 'we', 'Rikki-tikki', 'it', 'he']\n",
            "\n",
            "he landed close to old\n",
            "And the suggesting words are\n",
            "['Sea', 'all', 'the', 'mule.', 'will']\n",
            "\n",
            "he had seen enough of\n",
            "And the suggesting words are\n",
            "['it.', 'the', 'elephants', 'something', 'only']\n",
            "\n"
          ]
        }
      ]
    },
    {
      "cell_type": "markdown",
      "source": [
        "### we can confirm that everything is working fine. In each of the sentences we got the right suggestions."
      ],
      "metadata": {
        "id": "u_vMWD_rDe81"
      }
    },
    {
      "cell_type": "code",
      "source": [
        ""
      ],
      "metadata": {
        "id": "rWRtZ61LBZF9"
      },
      "execution_count": null,
      "outputs": []
    }
  ]
}